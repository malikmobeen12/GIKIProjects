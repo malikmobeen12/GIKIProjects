{
 "cells": [
  {
   "cell_type": "markdown",
   "metadata": {
    "id": "9fbNiTygznXS"
   },
   "source": [
    "# Conditional GAN\n",
    "\n",
    "**Author:** [Sayak Paul](https://twitter.com/RisingSayak)<br>\n",
    "**Date created:** 2021/07/13<br>\n",
    "**Last modified:** 2021/07/15<br>\n",
    "**Description:** Training a GAN conditioned on class labels to generate handwritten digits."
   ]
  },
  {
   "cell_type": "markdown",
   "metadata": {
    "id": "f2q6Up2yznXX"
   },
   "source": [
    "Generative Adversarial Networks (GANs) let us generate novel image data, video data,\n",
    "or audio data from a random input. Typically, the random input is sampled\n",
    "from a normal distribution, before going through a series of transformations that turn\n",
    "it into something plausible (image, video, audio, etc.).\n",
    "\n",
    "However, a simple [DCGAN](https://arxiv.org/abs/1511.06434) doesn't let us control\n",
    "the appearance (e.g. class) of the samples we're generating. For instance,\n",
    "with a GAN that generates MNIST handwritten digits, a simple DCGAN wouldn't let us\n",
    "choose the class of digits we're generating.\n",
    "To be able to control what we generate, we need to _condition_ the GAN output\n",
    "on a semantic input, such as the class of an image.\n",
    "\n",
    "In this example, we'll build a **Conditional GAN** that can generate MNIST handwritten\n",
    "digits conditioned on a given class. Such a model can have various useful applications:\n",
    "\n",
    "* let's say you are dealing with an\n",
    "[imbalanced image dataset](https://developers.google.com/machine-learning/data-prep/construct/sampling-splitting/imbalanced-data),\n",
    "and you'd like to gather more examples for the skewed class to balance the dataset.\n",
    "Data collection can be a costly process on its own. You could instead train a Conditional GAN and use\n",
    "it to generate novel images for the class that needs balancing.\n",
    "* Since the generator learns to associate the generated samples with the class labels,\n",
    "its representations can also be used for [other downstream tasks](https://arxiv.org/abs/1809.11096).\n",
    "\n",
    "Following are the references used for developing this example:\n",
    "\n",
    "* [Conditional Generative Adversarial Nets](https://arxiv.org/abs/1411.1784)\n",
    "* [Lecture on Conditional Generation from Coursera](https://www.coursera.org/lecture/build-basic-generative-adversarial-networks-gans/conditional-generation-inputs-2OPrG)\n",
    "\n",
    "If you need a refresher on GANs, you can refer to the \"Generative adversarial networks\"\n",
    "section of\n",
    "[this resource](https://livebook.manning.com/book/deep-learning-with-python-second-edition/chapter-12/r-3/232).\n",
    "\n",
    "This example requires TensorFlow 2.5 or higher, as well as TensorFlow Docs, which can be\n",
    "installed using the following command:"
   ]
  },
  {
   "cell_type": "code",
   "execution_count": 1,
   "metadata": {
    "id": "HCKC_N4RznXZ"
   },
   "outputs": [
    {
     "name": "stdout",
     "output_type": "stream",
     "text": [
      "Note: you may need to restart the kernel to use updated packages.\n"
     ]
    },
    {
     "name": "stderr",
     "output_type": "stream",
     "text": [
      "  ERROR: Error [WinError 2] The system cannot find the file specified while executing command git clone -q https://github.com/tensorflow/docs 'C:\\Users\\Ghousia\\AppData\\Local\\Temp\\pip-req-build-n_z52n7j'\n",
      "ERROR: Cannot find command 'git' - do you have 'git' installed and in your PATH?\n"
     ]
    }
   ],
   "source": [
    "pip install -q git+https://github.com/tensorflow/docs"
   ]
  },
  {
   "cell_type": "markdown",
   "metadata": {
    "id": "RNt2naM5znXa"
   },
   "source": [
    "## Imports"
   ]
  },
  {
   "cell_type": "code",
   "execution_count": 2,
   "metadata": {
    "id": "NSATQRFQznXb"
   },
   "outputs": [],
   "source": [
    "from tensorflow import keras\n",
    "from tensorflow.keras import layers\n",
    "import matplotlib.pyplot as plt\n",
    "import tensorflow as tf\n",
    "import numpy as np\n",
    "import imageio\n",
    "import os\n",
    "import cv2\n",
    "from tensorflow.keras.utils import to_categorical"
   ]
  },
  {
   "cell_type": "markdown",
   "metadata": {
    "id": "Ba-YsraHznXb"
   },
   "source": [
    "## Constants and hyperparameters"
   ]
  },
  {
   "cell_type": "code",
   "execution_count": 3,
   "metadata": {
    "id": "yGRkWLaCznXc"
   },
   "outputs": [],
   "source": [
    "batch_size = 64\n",
    "num_channels = 1\n",
    "num_classes = 10\n",
    "image_size = 28\n",
    "latent_dim = 128"
   ]
  },
  {
   "cell_type": "markdown",
   "metadata": {
    "id": "tv8N5GJsznXc"
   },
   "source": [
    "## Loading the MNIST dataset and preprocessing it"
   ]
  },
  {
   "cell_type": "code",
   "execution_count": 4,
   "metadata": {},
   "outputs": [],
   "source": [
    "# Define the directory where the folders of images are located\n",
    "directory = \"C:/Users/Ghousia/Dataset\"\n",
    "\n",
    "# Define the image size to resize all images to (in this case, 256 x 256)\n",
    "img_size = (256, 256)\n",
    "\n",
    "# Define a list to hold the image data and corresponding labels\n",
    "data = []\n",
    "labels = []\n",
    "\n",
    "# Define a dictionary to map class names to numerical labels\n",
    "class_dict = {\"Acrylics\": 0, \"Artificial Fur\": 1, \"Artificial Leather\": 2, \"Blended\": 3, \"Chenille\": 4, \"Corduroy\": 5, \"Fleece\": 6, \"Silk\": 7, \"Wool\": 8,\"africa_fabric\":9}"
   ]
  },
  {
   "cell_type": "code",
   "execution_count": null,
   "metadata": {},
   "outputs": [],
   "source": []
  },
  {
   "cell_type": "code",
   "execution_count": 5,
   "metadata": {
    "scrolled": true
   },
   "outputs": [
    {
     "name": "stdout",
     "output_type": "stream",
     "text": [
      "Processing images in C:/Users/Ghousia/Dataset\\Acrylics\n",
      "Processing images in C:/Users/Ghousia/Dataset\\africa_fabric\n",
      "Processing images in C:/Users/Ghousia/Dataset\\Artificial Fur\n",
      "Processing images in C:/Users/Ghousia/Dataset\\Artificial Leather\n",
      "Processing images in C:/Users/Ghousia/Dataset\\Blended\n",
      "Processing images in C:/Users/Ghousia/Dataset\\Chenille\n",
      "Processing images in C:/Users/Ghousia/Dataset\\Corduroy\n",
      "Processing images in C:/Users/Ghousia/Dataset\\Fleece\n",
      "Processing images in C:/Users/Ghousia/Dataset\\Silk\n",
      "Processing images in C:/Users/Ghousia/Dataset\\Wool\n",
      "Data shape: (3606, 28, 28)\n",
      "Labels shape: (3606, 10)\n"
     ]
    }
   ],
   "source": [
    "\n",
    "# Loop over each subdirectory in the directory\n",
    "for subdir in os.listdir(directory):\n",
    "    subdir_path = os.path.join(directory, subdir)\n",
    "    if os.path.isdir(subdir_path):\n",
    "        print(f\"Processing images in {subdir_path}\")\n",
    "        # Loop over each file in the subdirectory\n",
    "        for file in os.listdir(subdir_path):\n",
    "            # Load the image file using cv2.imread()\n",
    "            img_path = os.path.join(subdir_path, file)\n",
    "            img = cv2.imread(img_path)\n",
    "            img=cv2.cvtColor(img, cv2.COLOR_BGR2GRAY)\n",
    "            # Resize the image to the desired size (e.g., 224x224)\n",
    "            img = cv2.resize(img, (28,28))\n",
    "            # Convert the image to a numpy array and normalize the pixel values\n",
    "            img_array = (np.array(img)) / 255.0\n",
    "            # Append the image data and label to the lists\n",
    "            data.append(img_array)\n",
    "            labels.append(class_dict[subdir])\n",
    "\n",
    "# Convert the data and labels lists to numpy arrays\n",
    "\n",
    "# Print the shape of the data and labels arrays\n",
    "\n",
    "\n",
    "# Convert the labels to one-hot encoding\n",
    "labels = to_categorical(labels, num_classes=10)\n",
    "\n",
    "datanp = np.array(data)\n",
    "labelsnp = np.array(labels)\n",
    "\n",
    "print(\"Data shape:\", datanp.shape)\n",
    "print(\"Labels shape:\", labelsnp.shape)"
   ]
  },
  {
   "cell_type": "code",
   "execution_count": null,
   "metadata": {},
   "outputs": [],
   "source": []
  },
  {
   "cell_type": "code",
   "execution_count": 6,
   "metadata": {
    "id": "KJL4TttYznXd"
   },
   "outputs": [
    {
     "name": "stdout",
     "output_type": "stream",
     "text": [
      "Shape of training images: (3606, 28, 28, 1)\n",
      "Shape of training labels: (3606, 10)\n"
     ]
    }
   ],
   "source": [
    "# We'll use all the available examples from both the training and test\n",
    "# sets.\n",
    "#(x_train, y_train), (x_test, y_test) = keras.datasets.mnist.load_data()\n",
    "all_digits = datanp\n",
    "all_labels = labelsnp\n",
    "\n",
    "# Scale the pixel values to [0, 1] range, add a channel dimension to\n",
    "# the images, and one-hot encode the labels.\n",
    "all_digits = all_digits.astype(\"float32\")\n",
    "all_digits = np.reshape(all_digits, (-1, 28, 28, 1))\n",
    "#all_labels = keras.utils.to_categorical(all_labels, 10)\n",
    "\n",
    "# Create tf.data.Dataset.\n",
    "dataset = tf.data.Dataset.from_tensor_slices((all_digits, all_labels))\n",
    "dataset = dataset.shuffle(buffer_size=1024).batch(batch_size)\n",
    "\n",
    "print(f\"Shape of training images: {all_digits.shape}\")\n",
    "print(f\"Shape of training labels: {all_labels.shape}\")"
   ]
  },
  {
   "cell_type": "markdown",
   "metadata": {
    "id": "JiQrnZ3YznXd"
   },
   "source": [
    "## Calculating the number of input channel for the generator and discriminator\n",
    "\n",
    "In a regular (unconditional) GAN, we start by sampling noise (of some fixed\n",
    "dimension) from a normal distribution. In our case, we also need to account\n",
    "for the class labels. We will have to add the number of classes to\n",
    "the input channels of the generator (noise input) as well as the discriminator\n",
    "(generated image input)."
   ]
  },
  {
   "cell_type": "code",
   "execution_count": 7,
   "metadata": {
    "id": "sTxY4feGznXe"
   },
   "outputs": [
    {
     "name": "stdout",
     "output_type": "stream",
     "text": [
      "138 11\n"
     ]
    }
   ],
   "source": [
    "generator_in_channels = latent_dim + num_classes\n",
    "discriminator_in_channels = num_channels + num_classes\n",
    "print(generator_in_channels, discriminator_in_channels)\n",
    "\n",
    "#Disc in Channels should be 10, turned out to be 11 *IMPORTANT*"
   ]
  },
  {
   "cell_type": "markdown",
   "metadata": {
    "id": "dY93eMbKznXe"
   },
   "source": [
    "## Creating the discriminator and generator\n",
    "\n",
    "The model definitions (`discriminator`, `generator`, and `ConditionalGAN`) have been\n",
    "adapted from [this example](https://keras.io/guides/customizing_what_happens_in_fit/)."
   ]
  },
  {
   "cell_type": "code",
   "execution_count": 8,
   "metadata": {
    "id": "YcqJbqAPznXf"
   },
   "outputs": [],
   "source": [
    "# Create the discriminator.\n",
    "discriminator = keras.Sequential(\n",
    "    [\n",
    "        keras.layers.InputLayer((28, 28, discriminator_in_channels)),\n",
    "        layers.Conv2D(64, (3, 3), strides=(2, 2), padding=\"same\"),\n",
    "        layers.LeakyReLU(alpha=0.2),\n",
    "        layers.Conv2D(128, (3, 3), strides=(2, 2), padding=\"same\"),\n",
    "        layers.LeakyReLU(alpha=0.2),\n",
    "        layers.GlobalMaxPooling2D(),\n",
    "        layers.Dense(1),\n",
    "    ],\n",
    "    name=\"discriminator\",\n",
    ")\n",
    "\n",
    "# Create the generator.\n",
    "generator = keras.Sequential(\n",
    "    [\n",
    "        keras.layers.InputLayer((generator_in_channels,)),\n",
    "        # We want to generate 128 + num_classes coefficients to reshape into a\n",
    "        # 7x7x(128 + num_classes) map.\n",
    "        layers.Dense(7 * 7 * generator_in_channels),\n",
    "        layers.LeakyReLU(alpha=0.2),\n",
    "        layers.Reshape((7, 7, generator_in_channels)),\n",
    "        layers.Conv2DTranspose(128, (4, 4), strides=(2, 2), padding=\"same\"),\n",
    "        layers.LeakyReLU(alpha=0.2),\n",
    "        layers.Conv2DTranspose(128, (4, 4), strides=(2, 2), padding=\"same\"),\n",
    "        layers.LeakyReLU(alpha=0.2),\n",
    "        layers.Conv2D(1, (7, 7), padding=\"same\", activation=\"sigmoid\"),\n",
    "    ],\n",
    "    name=\"generator\",\n",
    ")"
   ]
  },
  {
   "cell_type": "markdown",
   "metadata": {
    "id": "PC40oGpRznXf"
   },
   "source": [
    "## Creating a `ConditionalGAN` model"
   ]
  },
  {
   "cell_type": "code",
   "execution_count": 9,
   "metadata": {
    "id": "CNVo5hiYznXg"
   },
   "outputs": [],
   "source": [
    "\n",
    "class ConditionalGAN(keras.Model):\n",
    "    def __init__(self, discriminator, generator, latent_dim):\n",
    "        super().__init__()\n",
    "        self.discriminator = discriminator\n",
    "        self.generator = generator\n",
    "        self.latent_dim = latent_dim\n",
    "        self.gen_loss_tracker = keras.metrics.Mean(name=\"generator_loss\")\n",
    "        self.disc_loss_tracker = keras.metrics.Mean(name=\"discriminator_loss\")\n",
    "\n",
    "    @property\n",
    "    def metrics(self):\n",
    "        return [self.gen_loss_tracker, self.disc_loss_tracker]\n",
    "\n",
    "    def compile(self, d_optimizer, g_optimizer, loss_fn):\n",
    "        super().compile()\n",
    "        self.d_optimizer = d_optimizer\n",
    "        self.g_optimizer = g_optimizer\n",
    "        self.loss_fn = loss_fn\n",
    "\n",
    "    def train_step(self, data):\n",
    "        # Unpack the data.\n",
    "        real_images, one_hot_labels = data\n",
    "\n",
    "        # Add dummy dimensions to the labels so that they can be concatenated with\n",
    "        # the images. This is for the discriminator.\n",
    "        image_one_hot_labels = one_hot_labels[:, :, None, None]\n",
    "        image_one_hot_labels = tf.repeat(\n",
    "            image_one_hot_labels, repeats=[image_size * image_size]\n",
    "        )\n",
    "        image_one_hot_labels = tf.reshape(\n",
    "            image_one_hot_labels, (-1, image_size, image_size, num_classes)\n",
    "        )\n",
    "\n",
    "        # Sample random points in the latent space and concatenate the labels.\n",
    "        # This is for the generator.\n",
    "        batch_size = tf.shape(real_images)[0]\n",
    "        random_latent_vectors = tf.random.normal(shape=(batch_size, self.latent_dim))\n",
    "        random_vector_labels = tf.concat(\n",
    "            [random_latent_vectors, one_hot_labels], axis=1\n",
    "        )\n",
    "\n",
    "        # Decode the noise (guided by labels) to fake images.\n",
    "        generated_images = self.generator(random_vector_labels)\n",
    "\n",
    "        # Combine them with real images. Note that we are concatenating the labels\n",
    "        # with these images here.\n",
    "        fake_image_and_labels = tf.concat([generated_images, image_one_hot_labels], -1)\n",
    "        real_image_and_labels = tf.concat([real_images, image_one_hot_labels], -1)\n",
    "        combined_images = tf.concat(\n",
    "            [fake_image_and_labels, real_image_and_labels], axis=0\n",
    "        )\n",
    "\n",
    "        # Assemble labels discriminating real from fake images.\n",
    "        labels = tf.concat(\n",
    "            [tf.ones((batch_size, 1)), tf.zeros((batch_size, 1))], axis=0\n",
    "        )\n",
    "\n",
    "        # Train the discriminator.\n",
    "        with tf.GradientTape() as tape:\n",
    "            predictions = self.discriminator(combined_images)\n",
    "            d_loss = self.loss_fn(labels, predictions)\n",
    "        grads = tape.gradient(d_loss, self.discriminator.trainable_weights)\n",
    "        self.d_optimizer.apply_gradients(\n",
    "            zip(grads, self.discriminator.trainable_weights)\n",
    "        )\n",
    "\n",
    "        # Sample random points in the latent space.\n",
    "        random_latent_vectors = tf.random.normal(shape=(batch_size, self.latent_dim))\n",
    "        random_vector_labels = tf.concat(\n",
    "            [random_latent_vectors, one_hot_labels], axis=1\n",
    "        )\n",
    "\n",
    "        # Assemble labels that say \"all real images\".\n",
    "        misleading_labels = tf.zeros((batch_size, 1))\n",
    "\n",
    "        # Train the generator (note that we should *not* update the weights\n",
    "        # of the discriminator)!\n",
    "        with tf.GradientTape() as tape:\n",
    "            fake_images = self.generator(random_vector_labels)\n",
    "            fake_image_and_labels = tf.concat([fake_images, image_one_hot_labels], -1)\n",
    "            predictions = self.discriminator(fake_image_and_labels)\n",
    "            g_loss = self.loss_fn(misleading_labels, predictions)\n",
    "        grads = tape.gradient(g_loss, self.generator.trainable_weights)\n",
    "        self.g_optimizer.apply_gradients(zip(grads, self.generator.trainable_weights))\n",
    "\n",
    "        # Monitor loss.\n",
    "        self.gen_loss_tracker.update_state(g_loss)\n",
    "        self.disc_loss_tracker.update_state(d_loss)\n",
    "        return {\n",
    "            \"g_loss\": self.gen_loss_tracker.result(),\n",
    "            \"d_loss\": self.disc_loss_tracker.result(),\n",
    "        }\n"
   ]
  },
  {
   "cell_type": "markdown",
   "metadata": {
    "id": "DUnP0DGQznXg"
   },
   "source": [
    "## Training the Conditional GAN"
   ]
  },
  {
   "cell_type": "code",
   "execution_count": 10,
   "metadata": {
    "id": "7BwUDVBuznXh"
   },
   "outputs": [
    {
     "name": "stdout",
     "output_type": "stream",
     "text": [
      "57/57 [==============================] - 76s 1s/step - g_loss: 0.7449 - d_loss: 0.6720\n"
     ]
    },
    {
     "data": {
      "text/plain": [
       "<keras.callbacks.History at 0x155c8cd9850>"
      ]
     },
     "execution_count": 10,
     "metadata": {},
     "output_type": "execute_result"
    }
   ],
   "source": [
    "cond_gan = ConditionalGAN(\n",
    "    discriminator=discriminator, generator=generator, latent_dim=latent_dim\n",
    ")\n",
    "cond_gan.compile(\n",
    "    d_optimizer=keras.optimizers.Adam(learning_rate=0.0003),\n",
    "    g_optimizer=keras.optimizers.Adam(learning_rate=0.0003),\n",
    "    loss_fn=keras.losses.BinaryCrossentropy(from_logits=True),\n",
    ")\n",
    "\n",
    "cond_gan.fit(dataset, epochs=1)"
   ]
  },
  {
   "cell_type": "markdown",
   "metadata": {
    "id": "FErmJDHFznXh"
   },
   "source": [
    "## Interpolating between classes with the trained generator"
   ]
  },
  {
   "cell_type": "code",
   "execution_count": 11,
   "metadata": {
    "id": "iFgZhH3VznXh"
   },
   "outputs": [
    {
     "name": "stdout",
     "output_type": "stream",
     "text": [
      "1/1 [==============================] - 0s 253ms/step\n"
     ]
    }
   ],
   "source": [
    "# We first extract the trained generator from our Conditiona GAN.\n",
    "trained_gen = cond_gan.generator\n",
    "\n",
    "# Choose the number of intermediate images that would be generated in\n",
    "# between the interpolation + 2 (start and last images).\n",
    "num_interpolation = 9  # @param {type:\"integer\"}\n",
    "\n",
    "# Sample noise for the interpolation.\n",
    "interpolation_noise = tf.random.normal(shape=(1, latent_dim))\n",
    "interpolation_noise = tf.repeat(interpolation_noise, repeats=num_interpolation)\n",
    "interpolation_noise = tf.reshape(interpolation_noise, (num_interpolation, latent_dim))\n",
    "\n",
    "\n",
    "def interpolate_class(first_number, second_number):\n",
    "    # Convert the start and end labels to one-hot encoded vectors.\n",
    "    first_label = keras.utils.to_categorical([first_number], num_classes)\n",
    "    second_label = keras.utils.to_categorical([second_number], num_classes)\n",
    "    first_label = tf.cast(first_label, tf.float32)\n",
    "    second_label = tf.cast(second_label, tf.float32)\n",
    "\n",
    "    # Calculate the interpolation vector between the two labels.\n",
    "    percent_second_label = tf.linspace(0, 1, num_interpolation)[:, None]\n",
    "    percent_second_label = tf.cast(percent_second_label, tf.float32)\n",
    "    interpolation_labels = (\n",
    "        first_label * (1 - percent_second_label) + second_label * percent_second_label\n",
    "    )\n",
    "\n",
    "    # Combine the noise and the labels and run inference with the generator.\n",
    "    noise_and_labels = tf.concat([interpolation_noise, interpolation_labels], 1)\n",
    "    fake = trained_gen.predict(noise_and_labels)\n",
    "    return fake\n",
    "\n",
    "\n",
    "start_class = 1  # @param {type:\"slider\", min:0, max:9, step:1}\n",
    "end_class = 5  # @param {type:\"slider\", min:0, max:9, step:1}\n",
    "\n",
    "fake_images = interpolate_class(start_class, end_class)"
   ]
  },
  {
   "cell_type": "markdown",
   "metadata": {
    "id": "XRT3oNF1znXi"
   },
   "source": [
    "Here, we first sample noise from a normal distribution and then we repeat that for\n",
    "`num_interpolation` times and reshape the result accordingly.\n",
    "We then distribute it uniformly for `num_interpolation`\n",
    "with the label indentities being present in some proportion."
   ]
  },
  {
   "cell_type": "code",
   "execution_count": 17,
   "metadata": {
    "id": "1_P32rJzznXi"
   },
   "outputs": [
    {
     "data": {
      "image/png": "[encoded data removed]",
      "text/plain": [
       "<Figure size 432x288 with 1 Axes>"
      ]
     },
     "metadata": {
      "needs_background": "light"
     },
     "output_type": "display_data"
    },
    {
     "data": {
      "image/png": "[encoded data removed]",
      "text/plain": [
       "<Figure size 432x288 with 1 Axes>"
      ]
     },
     "metadata": {
      "needs_background": "light"
     },
     "output_type": "display_data"
    },
    {
     "data": {
      "image/png": "[encoded data removed]",
      "text/plain": [
       "<Figure size 432x288 with 1 Axes>"
      ]
     },
     "metadata": {
      "needs_background": "light"
     },
     "output_type": "display_data"
    },
    {
     "data": {
      "image/png": "[encoded data removed]",
      "text/plain": [
       "<Figure size 432x288 with 1 Axes>"
      ]
     },
     "metadata": {
      "needs_background": "light"
     },
     "output_type": "display_data"
    },
    {
     "data": {
      "image/png": "[encoded data removed]",
      "text/plain": [
       "<Figure size 432x288 with 1 Axes>"
      ]
     },
     "metadata": {
      "needs_background": "light"
     },
     "output_type": "display_data"
    },
    {
     "data": {
      "image/png": "[encoded data removed]",
      "text/plain": [
       "<Figure size 432x288 with 1 Axes>"
      ]
     },
     "metadata": {
      "needs_background": "light"
     },
     "output_type": "display_data"
    },
    {
     "data": {
      "image/png": "[encoded data removed]",
      "text/plain": [
       "<Figure size 432x288 with 1 Axes>"
      ]
     },
     "metadata": {
      "needs_background": "light"
     },
     "output_type": "display_data"
    },
    {
     "data": {
      "image/png": "[encoded data removed]",
      "text/plain": [
       "<Figure size 432x288 with 1 Axes>"
      ]
     },
     "metadata": {
      "needs_background": "light"
     },
     "output_type": "display_data"
    },
    {
     "data": {
      "image/png": "[encoded data removed]",
      "text/plain": [
       "<Figure size 432x288 with 1 Axes>"
      ]
     },
     "metadata": {
      "needs_background": "light"
     },
     "output_type": "display_data"
    }
   ],
   "source": [
    "\n",
    "fake_images *= 255.0\n",
    "converted_images = fake_images.astype(np.uint8)\n",
    "converted_images = tf.image.resize(converted_images, (96, 96)).numpy().astype(np.uint8)\n",
    "type(converted_images)\n",
    "#converted_images=cv2.imshow(\"Image produced\",converted_images)\n",
    "for i in range(0,9):\n",
    "    from matplotlib import pyplot as plt\n",
    "    plt.imshow(converted_images[i],interpolation='nearest')\n",
    "    plt.show()\n",
    "#imageio.mimsave(\"animation.gif\", converted_images, fps=1)\n",
    "#embed.embed_file(\"animation.gif\")"
   ]
  },
  {
   "cell_type": "code",
   "execution_count": null,
   "metadata": {},
   "outputs": [],
   "source": []
  },
  {
   "cell_type": "markdown",
   "metadata": {
    "id": "JoV6GxIuznXj"
   },
   "source": [
    "We can further improve the performance of this model with recipes like\n",
    "[WGAN-GP](https://keras.io/examples/generative/wgan_gp).\n",
    "Conditional generation is also widely used in many modern image generation architectures like\n",
    "[VQ-GANs](https://arxiv.org/abs/2012.09841), [DALL-E](https://openai.com/blog/dall-e/),\n",
    "etc.\n",
    "\n",
    "You can use the trained model hosted on [Hugging Face Hub](https://huggingface.co/keras-io/conditional-gan) and try the demo on [Hugging Face Spaces](https://huggingface.co/spaces/keras-io/conditional-GAN)."
   ]
  },
  {
   "cell_type": "code",
   "execution_count": 25,
   "metadata": {},
   "outputs": [],
   "source": [
    "import tkinter as tk\n",
    "from PIL import Image, ImageTk\n",
    "\n",
    "# Dictionary mapping button names to their respective keys\n",
    "button_names = {\n",
    "    \"Acrylics\": 0,\n",
    "    \"Artificial Fur\": 1,\n",
    "    \"Artificial Leather\": 2,\n",
    "    \"Blended\": 3,\n",
    "    \"Chenille\": 4,\n",
    "    \"Corduroy\": 5,\n",
    "    \"Fleece\": 6,\n",
    "    \"Silk\": 7,\n",
    "    \"Wool\": 8,\n",
    "    \"Africa Fabric\": 9\n",
    "}\n",
    "\n",
    "# Function to generate and display the image based on the button clicked\n",
    "\n",
    "def generate_image(key):\n",
    "    # Code to generate the image using a GAN based on the given key\n",
    "    # Replace this with your own implementation or GAN model\n",
    "    start_class = 1  # @param {type:\"slider\", min:0, max:9, step:1}\n",
    "    end_class = 5  # @param {type:\"slider\", min:0, max:9, step:1}\n",
    "    fake_images = interpolate_class(start_class, end_class)\n",
    "    fake_images *= 255.0\n",
    "    converted_images = fake_images.astype(np.uint8)\n",
    "    converted_images = tf.image.resize(converted_images, (96, 96)).numpy().astype(np.uint8)\n",
    "    # Example: Generate a random NumPy array as an image\n",
    "    image_array = converted_images[0]\n",
    "\n",
    "    # Convert the array to PIL Image\n",
    "    image = Image.fromarray(image_array)\n",
    "\n",
    "    # Convert the image to RGB mode if it's not already\n",
    "    if image.mode != \"RGB\":\n",
    "        image = image.convert(\"RGB\")\n",
    "\n",
    "    # Resize the image if needed\n",
    "    target_size = (200, 200)\n",
    "    if image.size != target_size:\n",
    "        image = image.resize(target_size)\n",
    "\n",
    "    # Display the image in the image_label\n",
    "    image_label.configure(image=ImageTk.PhotoImage(image))\n",
    "    image_label.image = ImageTk.PhotoImage(image)\n",
    "\n",
    "\n",
    "window = tk.Tk()\n",
    "window.title(\"GAN Image Generator\")\n",
    "window.geometry(\"600x400\")\n",
    "\n",
    "# Create a frame for buttons and align it to the left side\n",
    "button_frame = tk.Frame(window)\n",
    "button_frame.pack(side=tk.LEFT, padx=10, pady=10)\n",
    "\n",
    "# Create buttons dynamically based on the keys in the dictionary\n",
    "for name, key in button_names.items():\n",
    "    button = tk.Button(button_frame, text=name, command=lambda k=key: generate_image(k))\n",
    "    button.pack(anchor=tk.W)\n",
    "\n",
    "# Create a sidebar frame for the image display\n",
    "sidebar_frame = tk.Frame(window)\n",
    "sidebar_frame.pack(side=tk.RIGHT, padx=10, pady=10, fill=tk.BOTH, expand=True)\n",
    "\n",
    "# Create a label to display the generated images\n",
    "image_label = tk.Label(sidebar_frame)\n",
    "image_label.pack(fill=tk.BOTH, expand=True)\n",
    "\n",
    "window.mainloop()\n"
   ]
  },
  {
   "cell_type": "code",
   "execution_count": null,
   "metadata": {},
   "outputs": [],
   "source": []
  }
 ],
 "metadata": {
  "accelerator": "GPU",
  "colab": {
   "name": "conditional_gan",
   "provenance": [],
   "toc_visible": true
  },
  "kernelspec": {
   "display_name": "Python 3 (ipykernel)",
   "language": "python",
   "name": "python3"
  },
  "language_info": {
   "codemirror_mode": {
    "name": "ipython",
    "version": 3
   },
   "file_extension": ".py",
   "mimetype": "text/x-python",
   "name": "python",
   "nbconvert_exporter": "python",
   "pygments_lexer": "ipython3",
   "version": "3.9.7"
  }
 },
 "nbformat": 4,
 "nbformat_minor": 1
}
